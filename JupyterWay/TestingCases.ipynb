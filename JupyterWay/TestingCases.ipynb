{
 "cells": [
  {
   "cell_type": "markdown",
   "metadata": {},
   "source": [
    "# Using Testing Cases\n",
    "* pip install nose *"
   ]
  },
  {
   "cell_type": "code",
   "execution_count": 23,
   "metadata": {},
   "outputs": [],
   "source": [
    "def solution(n1, n2):\n",
    "    return n1+n2"
   ]
  },
  {
   "cell_type": "code",
   "execution_count": 24,
   "metadata": {},
   "outputs": [
    {
     "name": "stdout",
     "output_type": "stream",
     "text": [
      "ALL TEST PASSED\n"
     ]
    }
   ],
   "source": [
    "from nose.tools import assert_equal\n",
    "\n",
    "class SolutionTest(object):\n",
    "    def solTest(self, sol):\n",
    "        assert_equal(sol(2,2), 4)\n",
    "        assert_equal(sol(4,4), 8)\n",
    "        \n",
    "        print(\"ALL TEST PASSED\")\n",
    "        \n",
    "#Run Test\n",
    "\n",
    "st = SolutionTest()\n",
    "st.solTest(solution)\n"
   ]
  },
  {
   "cell_type": "code",
   "execution_count": 38,
   "metadata": {},
   "outputs": [],
   "source": [
    "## Another Style\n",
    "def solution2(n1, n2):\n",
    "    return n1+n2"
   ]
  },
  {
   "cell_type": "code",
   "execution_count": 39,
   "metadata": {},
   "outputs": [
    {
     "name": "stdout",
     "output_type": "stream",
     "text": [
      "ALL TEST PASSED\n"
     ]
    }
   ],
   "source": [
    "from nose.tools import assert_equal\n",
    "\n",
    "class solutionTest2:\n",
    "    msg = \"\"\n",
    "    \n",
    "    def __init__(self):\n",
    "        self.msg = \"ALL TEST PASSED\"\n",
    "        \n",
    "    def solTest2(self, sol):\n",
    "        assert_equal(sol(2,2), 4)\n",
    "        assert_equal(sol(4,4), 8)\n",
    "        \n",
    "        print(self.msg)        \n",
    "\n",
    "st2 = solutionTest2()\n",
    "st2.solTest2(solution2)\n",
    "        "
   ]
  },
  {
   "cell_type": "code",
   "execution_count": null,
   "metadata": {},
   "outputs": [],
   "source": []
  }
 ],
 "metadata": {
  "kernelspec": {
   "display_name": "Python 3.8.2 64-bit",
   "language": "python",
   "name": "python38264bit3e6441eabad14e5f9ac92a251f2442a9"
  },
  "language_info": {
   "codemirror_mode": {
    "name": "ipython",
    "version": 3
   },
   "file_extension": ".py",
   "mimetype": "text/x-python",
   "name": "python",
   "nbconvert_exporter": "python",
   "pygments_lexer": "ipython3",
   "version": "3.8.2"
  }
 },
 "nbformat": 4,
 "nbformat_minor": 4
}
